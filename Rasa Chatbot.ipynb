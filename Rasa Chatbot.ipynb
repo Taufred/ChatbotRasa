{
 "cells": [
  {
   "cell_type": "markdown",
   "metadata": {},
   "source": [
    "# Rasa Chatbot\n",
    "### Preparation\n",
    "Since jupyter notebook runs on event loop, it requires some preparation"
   ]
  },
  {
   "cell_type": "code",
   "execution_count": 1,
   "metadata": {},
   "outputs": [
    {
     "name": "stdout",
     "output_type": "stream",
     "text": [
      "Event loop ready.\n"
     ]
    }
   ],
   "source": [
    "import nest_asyncio\n",
    "\n",
    "nest_asyncio.apply()\n",
    "print(\"Event loop ready.\")"
   ]
  },
  {
   "cell_type": "markdown",
   "metadata": {},
   "source": [
    "### Create a project"
   ]
  },
  {
   "cell_type": "code",
   "execution_count": 2,
   "metadata": {},
   "outputs": [
    {
     "name": "stdout",
     "output_type": "stream",
     "text": [
      "['actions.py', 'config.yml', 'credentials.yml', 'data', 'domain.yml', 'endpoints.yml', 'tests', '__init__.py', '__pycache__']\n"
     ]
    }
   ],
   "source": [
    "from rasa.cli.scaffold import create_initial_project\n",
    "import os\n",
    "\n",
    "project = \"test-project\"\n",
    "create_initial_project(project)\n",
    "\n",
    "# move into project directory and show files\n",
    "os.chdir(project)\n",
    "print(os.listdir(\".\"))"
   ]
  },
  {
   "cell_type": "markdown",
   "metadata": {},
   "source": [
    "### Training"
   ]
  },
  {
   "cell_type": "code",
   "execution_count": 6,
   "metadata": {},
   "outputs": [
    {
     "name": "stdout",
     "output_type": "stream",
     "text": [
      "config.yml data/ domain.yml models/\n",
      "\u001b[94mCore stories/configuration did not change. No need to retrain Core model.\u001b[0m\n",
      "\u001b[94mTraining NLU model...\u001b[0m\n"
     ]
    },
    {
     "name": "stderr",
     "output_type": "stream",
     "text": [
      "\u001b[93mC:\\Users\\JanUweFeldmann\\anaconda3\\envs\\DialogFlow\\lib\\site-packages\\rasa\\utils\\common.py:351: UserWarning: Intent 'inform' has only 1 training examples! Minimum is 2, training may fail.\n",
      "\u001b[0m\u001b[93mC:\\Users\\JanUweFeldmann\\anaconda3\\envs\\DialogFlow\\lib\\site-packages\\rasa\\utils\\common.py:351: UserWarning: Intent 'search_provider' has only 1 training examples! Minimum is 2, training may fail.\n",
      "\u001b[0m\u001b[93mC:\\Users\\JanUweFeldmann\\anaconda3\\envs\\DialogFlow\\lib\\site-packages\\rasa\\utils\\common.py:351: UserWarning: Entity entity 'facility' has only 1 training examples! The minimum is 2, because of this the training may fail.\n",
      "\u001b[0m\u001b[93mC:\\Users\\JanUweFeldmann\\anaconda3\\envs\\DialogFlow\\lib\\site-packages\\rasa\\utils\\common.py:351: UserWarning: Entity entity 'location' has only 1 training examples! The minimum is 2, because of this the training may fail.\n",
      "Epochs: 100%|██████████| 100/100 [00:23<00:00,  4.21it/s, t_loss=2.061, i_loss=0.555, entity_loss=0.020, i_acc=1.000, entity_f1=0.748]\n"
     ]
    },
    {
     "name": "stdout",
     "output_type": "stream",
     "text": [
      "\u001b[94mNLU model training completed.\u001b[0m\n",
      "\u001b[92mYour Rasa model is trained and saved at 'C:\\Users\\JanUweFeldmann\\Documents\\ChatbotNotebooks\\test-project\\models\\20200608-105456.tar.gz'.\u001b[0m\n",
      "models/20200608-105456.tar.gz\n"
     ]
    }
   ],
   "source": [
    "import rasa\n",
    "config = \"config.yml\"\n",
    "training_files = \"data/\"\n",
    "domain = \"domain.yml\"\n",
    "output = \"models/\"\n",
    "print(config, training_files, domain, output)\n",
    "model_path = rasa.train(domain, config, [training_files], output)\n",
    "print(model_path)"
   ]
  },
  {
   "cell_type": "markdown",
   "metadata": {},
   "source": [
    "### Chat"
   ]
  },
  {
   "cell_type": "code",
   "execution_count": null,
   "metadata": {},
   "outputs": [],
   "source": [
    "from rasa.jupyter import chat\n",
    "chat(model_path)"
   ]
  },
  {
   "cell_type": "code",
   "execution_count": null,
   "metadata": {},
   "outputs": [],
   "source": [
    "from rasa"
   ]
  },
  {
   "cell_type": "code",
   "execution_count": null,
   "metadata": {},
   "outputs": [],
   "source": []
  }
 ],
 "metadata": {
  "kernelspec": {
   "display_name": "Python 3",
   "language": "python",
   "name": "python3"
  },
  "language_info": {
   "codemirror_mode": {
    "name": "ipython",
    "version": 3
   },
   "file_extension": ".py",
   "mimetype": "text/x-python",
   "name": "python",
   "nbconvert_exporter": "python",
   "pygments_lexer": "ipython3",
   "version": "3.7.7"
  }
 },
 "nbformat": 4,
 "nbformat_minor": 4
}
